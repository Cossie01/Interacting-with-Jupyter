{
 "cells": [
  {
   "cell_type": "code",
   "execution_count": 1,
   "id": "5323f4d9-1e68-4350-b4ec-516ff0ffd060",
   "metadata": {},
   "outputs": [],
   "source": [
    "Friends = [\"Joey\", \"Chandler\", \"Ross\", \"Monica\", \"Rachel\", \"Phoeby\"]"
   ]
  },
  {
   "cell_type": "code",
   "execution_count": 2,
   "id": "bab4fcd4-1a8f-4050-a43d-81724aef81a5",
   "metadata": {},
   "outputs": [
    {
     "name": "stdout",
     "output_type": "stream",
     "text": [
      "['Joey', 'Chandler', 'Ross', 'Monica', 'Rachel', 'Phoeby']\n"
     ]
    }
   ],
   "source": [
    "print(Friends) # gives the whole list of elements."
   ]
  },
  {
   "cell_type": "code",
   "execution_count": 3,
   "id": "7fd88ff2-b87e-479d-9930-e100ed99b13f",
   "metadata": {},
   "outputs": [
    {
     "name": "stdout",
     "output_type": "stream",
     "text": [
      "Joey\n"
     ]
    }
   ],
   "source": [
    "print(Friends[0]) # gives first on the list."
   ]
  },
  {
   "cell_type": "code",
   "execution_count": 4,
   "id": "16e24371-209c-408e-9f96-8e259fc60e1a",
   "metadata": {},
   "outputs": [
    {
     "name": "stdout",
     "output_type": "stream",
     "text": [
      "Phoeby\n"
     ]
    }
   ],
   "source": [
    "print(Friends[-1]) # gives last name on the list, goes from the back."
   ]
  },
  {
   "cell_type": "code",
   "execution_count": 5,
   "id": "73fba8c7-c65b-4db1-8656-5713203ecf46",
   "metadata": {},
   "outputs": [
    {
     "name": "stdout",
     "output_type": "stream",
     "text": [
      "['Chandler', 'Ross', 'Monica', 'Rachel', 'Phoeby']\n"
     ]
    }
   ],
   "source": [
    "print(Friends[1:]) # gives all the elements from 1 until the end."
   ]
  },
  {
   "cell_type": "code",
   "execution_count": 6,
   "id": "9c30c773-d2cd-4783-a86c-3c24fb3ec554",
   "metadata": {},
   "outputs": [
    {
     "name": "stdout",
     "output_type": "stream",
     "text": [
      "['Chandler', 'Ross']\n"
     ]
    }
   ],
   "source": [
    "print(Friends[1:3]) #gives all the elements from 1 to 3 but not including 3."
   ]
  },
  {
   "cell_type": "markdown",
   "id": "da7c63f2-06a8-47e2-b9d2-75afe6e043fd",
   "metadata": {},
   "source": [
    "# **Friends**\n",
    "\n",
    "## *The Cast of Friends!*\n",
    "\n",
    "---\n",
    "\n",
    "- Joey = Matt LeBlanc\n",
    "- Chandler = Matthew Perry\n",
    "- Ross = David Schwimmer\n",
    "- Monica = Courteney Cox\n",
    "- Rachel = Jennifer Aniston\n",
    "- Phoeby = Lisa Kudrow\n",
    "\n",
    "![](https://goss.ie/wp-content/uploads/2021/01/aa-friends.jpg)\n"
   ]
  },
  {
   "cell_type": "code",
   "execution_count": null,
   "id": "a518a675-cd02-4608-a3da-6825c474da06",
   "metadata": {},
   "outputs": [],
   "source": []
  }
 ],
 "metadata": {
  "kernelspec": {
   "display_name": "Python 3",
   "language": "python",
   "name": "python3"
  },
  "language_info": {
   "codemirror_mode": {
    "name": "ipython",
    "version": 3
   },
   "file_extension": ".py",
   "mimetype": "text/x-python",
   "name": "python",
   "nbconvert_exporter": "python",
   "pygments_lexer": "ipython3",
   "version": "3.8.8"
  }
 },
 "nbformat": 4,
 "nbformat_minor": 5
}
